{
 "cells": [
  {
   "cell_type": "markdown",
   "metadata": {},
   "source": [
    "## Profitable Apps Project\n",
    "\n",
    "\n",
    "\n",
    "\n",
    "\n",
    "**Project Description**\n",
    "\n",
    "Aim of Project is to find mobile apps which are profitable  for app store and google play markets. As Data analyst, I want to enable developers via data driven decisions with respect to kind of apps they build. "
   ]
  },
  {
   "cell_type": "code",
   "execution_count": 1,
   "metadata": {},
   "outputs": [
    {
     "name": "stdout",
     "output_type": "stream",
     "text": [
      "[['284882215', 'Facebook', '389879808', 'USD', '0.0', '2974676', '212', '3.5', '3.5', '95.0', '4+', 'Social Networking', '37', '1', '29', '1'], ['389801252', 'Instagram', '113954816', 'USD', '0.0', '2161558', '1289', '4.5', '4.0', '10.23', '12+', 'Photo & Video', '37', '0', '29', '1']] \n",
      "\n",
      "[['Photo Editor & Candy Camera & Grid & ScrapBook', 'ART_AND_DESIGN', '4.1', '159', '19M', '10,000+', 'Free', '0', 'Everyone', 'Art & Design', 'January 7, 2018', '1.0.0', '4.0.3 and up'], ['Coloring book moana', 'ART_AND_DESIGN', '3.9', '967', '14M', '500,000+', 'Free', '0', 'Everyone', 'Art & Design;Pretend Play', 'January 15, 2018', '2.0.0', '4.0.3 and up']]\n"
     ]
    }
   ],
   "source": [
    "#Opening Apple and Google Datasets using Absolute Paths\n",
    "from csv import reader\n",
    "opened_applefile = open('E:\\Educational\\Python\\Datasets\\AppleStore.csv', encoding='utf8')\n",
    "read_apple = reader(opened_applefile)\n",
    "data_apple = list(read_apple)\n",
    "apple_rows = data_apple[1:] #Slicing out the header from the dataset\n",
    "apple_header = data_apple[0]#only Headers of the dataset\n",
    "\n",
    "opened_googlefile = open('E:\\Educational\\Python\\Datasets\\googleplaystore.csv', encoding='utf8')\n",
    "read_google = reader(opened_googlefile)\n",
    "data_google = list(read_google)\n",
    "google_rows = data_google[1:]\n",
    "google_header = data_google[0]\n",
    "\n",
    "#calling datasets for check\n",
    "print(apple_rows[0:2],'\\n')\n",
    "print(google_rows[0:2])\n"
   ]
  },
  {
   "cell_type": "markdown",
   "metadata": {},
   "source": [
    "## Creating a function to call data sets"
   ]
  },
  {
   "cell_type": "code",
   "execution_count": 2,
   "metadata": {},
   "outputs": [],
   "source": [
    "def explore_data(dataset,start,end,rows_cols = True):\n",
    "    for r in dataset[start:end]:\n",
    "        print(r,'\\n')\n",
    "    if rows_cols:\n",
    "        print('Number of rows :', len(dataset))\n",
    "        print('Number of columns:',len(dataset[0]))"
   ]
  },
  {
   "cell_type": "code",
   "execution_count": 3,
   "metadata": {},
   "outputs": [
    {
     "name": "stdout",
     "output_type": "stream",
     "text": [
      "['App', 'Category', 'Rating', 'Reviews', 'Size', 'Installs', 'Type', 'Price', 'Content Rating', 'Genres', 'Last Updated', 'Current Ver', 'Android Ver'] \n",
      "\n",
      "['Photo Editor & Candy Camera & Grid & ScrapBook', 'ART_AND_DESIGN', '4.1', '159', '19M', '10,000+', 'Free', '0', 'Everyone', 'Art & Design', 'January 7, 2018', '1.0.0', '4.0.3 and up'] \n",
      "\n",
      "['Coloring book moana', 'ART_AND_DESIGN', '3.9', '967', '14M', '500,000+', 'Free', '0', 'Everyone', 'Art & Design;Pretend Play', 'January 15, 2018', '2.0.0', '4.0.3 and up'] \n",
      "\n",
      "Number of rows : 10841\n",
      "Number of columns: 13\n"
     ]
    }
   ],
   "source": [
    "print(google_header,'\\n')\n",
    "explore_data(google_rows,0,2) #rows_cols condition True by default no need to place an argument for it in function"
   ]
  },
  {
   "cell_type": "markdown",
   "metadata": {},
   "source": [
    "## Removing Duplicates & Non English/Free Apps\n",
    "**Data Cleaning**\n",
    "\n",
    "Reading Kaggle discussion forumn, it was shown that data set is missing a column value. How to determine which row has that missing value in the dataset?"
   ]
  },
  {
   "cell_type": "code",
   "execution_count": 4,
   "metadata": {},
   "outputs": [
    {
     "name": "stdout",
     "output_type": "stream",
     "text": [
      "['Life Made WI-Fi Touchscreen Photo Frame', '1.9', '19', '3.0M', '1,000+', 'Free', '0', 'Everyone', '', 'February 11, 2018', '1.0.19', '4.0 and up'] \n",
      "\n",
      "Row with missing column is 10472\n"
     ]
    }
   ],
   "source": [
    "for rows in google_rows:\n",
    "    Col_len = len(google_header)\n",
    "    row_len = len(rows)\n",
    "    if Col_len != row_len:\n",
    "        print(rows,'\\n')\n",
    "        print('Row with missing column is', google_rows.index(rows))\n",
    "\n"
   ]
  },
  {
   "cell_type": "markdown",
   "metadata": {},
   "source": [
    "## Deleting wrong Data\n",
    "\n",
    "We will compare the row 10472 with headers to understand origin of the data error. Then delete the row. Two steps ofcourse are mutually exclusive."
   ]
  },
  {
   "cell_type": "code",
   "execution_count": 5,
   "metadata": {},
   "outputs": [
    {
     "name": "stdout",
     "output_type": "stream",
     "text": [
      "['App', 'Category', 'Rating', 'Reviews', 'Size', 'Installs', 'Type', 'Price', 'Content Rating', 'Genres', 'Last Updated', 'Current Ver', 'Android Ver'] \n",
      "\n",
      "['Coloring book moana', 'ART_AND_DESIGN', '3.9', '967', '14M', '500,000+', 'Free', '0', 'Everyone', 'Art & Design;Pretend Play', 'January 15, 2018', '2.0.0', '4.0.3 and up'] \n",
      "\n",
      "['Life Made WI-Fi Touchscreen Photo Frame', '1.9', '19', '3.0M', '1,000+', 'Free', '0', 'Everyone', '', 'February 11, 2018', '1.0.19', '4.0 and up']\n"
     ]
    }
   ],
   "source": [
    "print(google_header,'\\n')\n",
    "print(google_rows[1],'\\n')\n",
    "print(google_rows[10472])"
   ]
  },
  {
   "cell_type": "markdown",
   "metadata": {},
   "source": [
    "As we can see the row 10472 is missing the Category Column, this leads to eroneous alignment for other data points for example Ratings for app in this row is 19. However, Google playstore ratings are only upto 5."
   ]
  },
  {
   "cell_type": "code",
   "execution_count": 6,
   "metadata": {},
   "outputs": [
    {
     "name": "stdout",
     "output_type": "stream",
     "text": [
      "10841\n",
      "10840\n"
     ]
    }
   ],
   "source": [
    "print(len(google_rows))\n",
    "del google_rows[10472]\n",
    "print(len(google_rows))"
   ]
  },
  {
   "cell_type": "markdown",
   "metadata": {},
   "source": [
    "## Removing Duplicates\n",
    "\n",
    "**PART 1**\n",
    "\n",
    "**Creating two Seperate lists for Duplicates & Unique values**\n",
    "\n",
    "Logic: if an element in dataset exists in unique apps already then it is a duplicate. Hence we should add it to duplicate list via append method. "
   ]
  },
  {
   "cell_type": "code",
   "execution_count": 7,
   "metadata": {},
   "outputs": [
    {
     "data": {
      "text/plain": [
       "['Quick PDF Scanner + OCR FREE',\n",
       " 'Box',\n",
       " 'Google My Business',\n",
       " 'ZOOM Cloud Meetings',\n",
       " 'join.me - Simple Meetings',\n",
       " 'Box',\n",
       " 'Zenefits',\n",
       " 'Google Ads',\n",
       " 'Google My Business',\n",
       " 'Slack']"
      ]
     },
     "execution_count": 7,
     "metadata": {},
     "output_type": "execute_result"
    }
   ],
   "source": [
    "duplicate_apps = []\n",
    "unique_apps = []\n",
    "\n",
    "for apps in google_rows:\n",
    "    name = apps[0]\n",
    "    if name in unique_apps:\n",
    "        duplicate_apps.append(name)\n",
    "    else:\n",
    "        unique_apps.append(name)\n",
    "        \n",
    "duplicate_apps[0:10] #some examples of duplicate apps"
   ]
  },
  {
   "cell_type": "markdown",
   "metadata": {},
   "source": [
    "## PART 2\n",
    "**Removing Duplicates on a Criterion**\n",
    "\n",
    "As you can see each row with respective duplicate name is copied across the database. Quickly eye balling the Slack app duplicates in dataset we can observe that higher the number of reviews more recent the data should be. Hence rather than removing duplicates randomly, we will only keep entries of duplicates with highest number of reviews whilst remove others."
   ]
  },
  {
   "cell_type": "code",
   "execution_count": 8,
   "metadata": {},
   "outputs": [],
   "source": [
    "reviews_max = {}\n",
    "\n",
    "for e in google_rows:\n",
    "    name = e[0]\n",
    "    n_reviews = float(e[3])\n",
    "    \n",
    "    if name in reviews_max and reviews_max[name]< n_reviews:\n",
    "        reviews_max[name] = n_reviews\n",
    "        \n",
    "    elif name not in reviews_max:\n",
    "        reviews_max[name] = n_reviews\n",
    "#Important to use ELIF here and not ELSE - using else will also take exception of n_reviews.\n",
    "#We only want to pivot on names"
   ]
  },
  {
   "cell_type": "code",
   "execution_count": 9,
   "metadata": {},
   "outputs": [
    {
     "name": "stdout",
     "output_type": "stream",
     "text": [
      "Expected Length 9659 \n",
      "\n",
      "1181 \n",
      "\n",
      "Actual Length 9659\n"
     ]
    }
   ],
   "source": [
    "print('Expected Length',len(reviews_max),'\\n')\n",
    "print(len(duplicate_apps),'\\n')\n",
    "print('Actual Length',len(google_rows)-len(duplicate_apps))"
   ]
  },
  {
   "cell_type": "markdown",
   "metadata": {},
   "source": [
    "\n",
    "Now, let's use the reviews_max dictionary to remove the duplicates. For the duplicate cases, we'll only keep the entries with the highest number of reviews. In the code cell below:\n",
    "\n",
    "* We start by initializing two empty lists, android_clean and already_added.\n",
    "* We loop through the android data set, and for every iteration:\n",
    "    * We isolate the name of the app and the number of reviews.\n",
    "    * We add the current row (app) to the android_clean list, and the app name     (name) to the already_added list if:\n",
    "\n",
    "        - The number of reviews of the current app matches the number of reviews of that app as described in the reviews_max dictionary; and\n",
    "\n",
    "        - The name of the app is not already in the already_added list. We need to add this supplementary condition to account for those cases where the highest number of reviews of a duplicate app is the same for more than one entry (for example, the Box app has three entries, and the number of reviews is the same). If we just check for reviews_max[name] == n_reviews, we'll still end up with duplicate entries for some apps."
   ]
  },
  {
   "cell_type": "code",
   "execution_count": 10,
   "metadata": {},
   "outputs": [],
   "source": [
    "google_clean = []\n",
    "already_added = []\n",
    "\n",
    "for rows in google_rows:\n",
    "    name = rows[0]\n",
    "    n_reviews = float(rows[3])\n",
    "    \n",
    "    if reviews_max[name]== n_reviews and name not in already_added:\n",
    "        google_clean.append(rows)\n",
    "        already_added.append(name)\n",
    "\n"
   ]
  },
  {
   "cell_type": "markdown",
   "metadata": {},
   "source": [
    "Exploring the clean data set, it should give us same dataset length and width as created above in the dictionary. "
   ]
  },
  {
   "cell_type": "code",
   "execution_count": 11,
   "metadata": {},
   "outputs": [
    {
     "name": "stdout",
     "output_type": "stream",
     "text": [
      "['Photo Editor & Candy Camera & Grid & ScrapBook', 'ART_AND_DESIGN', '4.1', '159', '19M', '10,000+', 'Free', '0', 'Everyone', 'Art & Design', 'January 7, 2018', '1.0.0', '4.0.3 and up'] \n",
      "\n",
      "['U Launcher Lite – FREE Live Cool Themes, Hide Apps', 'ART_AND_DESIGN', '4.7', '87510', '8.7M', '5,000,000+', 'Free', '0', 'Everyone', 'Art & Design', 'August 1, 2018', '1.2.4', '4.0.3 and up'] \n",
      "\n",
      "['Sketch - Draw & Paint', 'ART_AND_DESIGN', '4.5', '215644', '25M', '50,000,000+', 'Free', '0', 'Teen', 'Art & Design', 'June 8, 2018', 'Varies with device', '4.2 and up'] \n",
      "\n",
      "['Pixel Draw - Number Art Coloring Book', 'ART_AND_DESIGN', '4.3', '967', '2.8M', '100,000+', 'Free', '0', 'Everyone', 'Art & Design;Creativity', 'June 20, 2018', '1.1', '4.4 and up'] \n",
      "\n",
      "Number of rows : 9659\n",
      "Number of columns: 13\n"
     ]
    }
   ],
   "source": [
    "explore_data(google_clean,0,4)"
   ]
  },
  {
   "cell_type": "code",
   "execution_count": null,
   "metadata": {},
   "outputs": [],
   "source": []
  },
  {
   "cell_type": "markdown",
   "metadata": {},
   "source": [
    "**As expected - we have 9659 rows.**"
   ]
  },
  {
   "cell_type": "markdown",
   "metadata": {},
   "source": [
    "# Removing Non English Apps\n",
    "\n",
    "**Part One**\n",
    "\n",
    "Exploring the data set we can see there are many apps which are not in english language hence we will end targeting the wrong audience. Below we will sort the data and segregate english apps from non english.\n",
    "\n",
    "**Use the Built-in Ord() function to leverage ASCII character standard**\n",
    "\n",
    "* All english alphabets have ASCII numerical value between 0 and 127"
   ]
  },
  {
   "cell_type": "code",
   "execution_count": 12,
   "metadata": {},
   "outputs": [],
   "source": [
    "def is_english(string):\n",
    "    for element in string:\n",
    "        if ord(element) > 127:\n",
    "            return False\n",
    "        \n",
    "    return True\n",
    "            \n",
    "\n",
    "        \n",
    "    "
   ]
  },
  {
   "cell_type": "code",
   "execution_count": 13,
   "metadata": {},
   "outputs": [
    {
     "name": "stdout",
     "output_type": "stream",
     "text": [
      "True\n",
      "False\n",
      "False\n",
      "False\n",
      "21095\n"
     ]
    }
   ],
   "source": [
    "print(is_english('Instagram '))\n",
    "print(is_english('a视剧热播'))\n",
    "\n",
    "print(is_english('Instachat 😜'))\n",
    "print(is_english('Docs To Go™ Free Office Suite'))\n",
    "print(ord(\"剧\"))"
   ]
  },
  {
   "cell_type": "markdown",
   "metadata": {},
   "source": [
    "However as you can see, the function is not perfect. Some apps use emojis or symbols in their names. Due to which the existing function check will drop them in selection. One way to limit data loss is by setting a criteria. For example. The apps which have atleast 3 characters outside ASCII range, will be deemed **Non English** . \n",
    "\n",
    "# Part Two"
   ]
  },
  {
   "cell_type": "code",
   "execution_count": 14,
   "metadata": {},
   "outputs": [],
   "source": [
    "def is_english(string):\n",
    "    non_ascii = 0\n",
    "    \n",
    "    for e in string:\n",
    "        if ord(e)>127:\n",
    "            non_ascii += 1\n",
    "    \n",
    "    if non_ascii >3:\n",
    "        return False\n",
    "    else:\n",
    "        return True\n",
    "    "
   ]
  },
  {
   "cell_type": "code",
   "execution_count": 15,
   "metadata": {},
   "outputs": [
    {
     "name": "stdout",
     "output_type": "stream",
     "text": [
      "True\n",
      "True\n"
     ]
    }
   ],
   "source": [
    "print(is_english('Docs To Go™ Free Office Suite'))\n",
    "print(is_english('Instachat 😜'))"
   ]
  },
  {
   "cell_type": "markdown",
   "metadata": {},
   "source": [
    "Although Function is still not but this limits the data loss quite a bit.\n",
    "\n",
    "# Seperating English & Non English into Seperate Lists Via Defined Function"
   ]
  },
  {
   "cell_type": "code",
   "execution_count": 16,
   "metadata": {},
   "outputs": [
    {
     "name": "stdout",
     "output_type": "stream",
     "text": [
      "['Photo Editor & Candy Camera & Grid & ScrapBook', 'ART_AND_DESIGN', '4.1', '159', '19M', '10,000+', 'Free', '0', 'Everyone', 'Art & Design', 'January 7, 2018', '1.0.0', '4.0.3 and up'] \n",
      "\n",
      "['U Launcher Lite – FREE Live Cool Themes, Hide Apps', 'ART_AND_DESIGN', '4.7', '87510', '8.7M', '5,000,000+', 'Free', '0', 'Everyone', 'Art & Design', 'August 1, 2018', '1.2.4', '4.0.3 and up'] \n",
      "\n",
      "Number of rows : 9614\n",
      "Number of columns: 13\n",
      "\n",
      "\n",
      "['284882215', 'Facebook', '389879808', 'USD', '0.0', '2974676', '212', '3.5', '3.5', '95.0', '4+', 'Social Networking', '37', '1', '29', '1'] \n",
      "\n",
      "['389801252', 'Instagram', '113954816', 'USD', '0.0', '2161558', '1289', '4.5', '4.0', '10.23', '12+', 'Photo & Video', '37', '0', '29', '1'] \n",
      "\n",
      "Number of rows : 6183\n",
      "Number of columns: 16\n"
     ]
    }
   ],
   "source": [
    "google_english = []\n",
    "apple_english = []\n",
    "\n",
    "for rows in google_clean:\n",
    "    name = rows[0]\n",
    "    \n",
    "    if is_english(name):\n",
    "        google_english.append(rows)\n",
    "        \n",
    "\n",
    "for rows in apple_rows:\n",
    "    name = rows[1]\n",
    "    \n",
    "    if is_english(name):\n",
    "        apple_english.append(rows)\n",
    "        \n",
    "explore_data(google_english,0,2)\n",
    "print('\\n')\n",
    "explore_data(apple_english,0,2)"
   ]
  },
  {
   "cell_type": "markdown",
   "metadata": {},
   "source": [
    "# Isolating the Free Apps\n",
    "\n"
   ]
  },
  {
   "cell_type": "code",
   "execution_count": 17,
   "metadata": {},
   "outputs": [
    {
     "name": "stdout",
     "output_type": "stream",
     "text": [
      "8864 android free apps\n",
      "3222 ios free apps\n"
     ]
    }
   ],
   "source": [
    "google_free = []\n",
    "apple_free = []\n",
    "\n",
    "for rows in google_english:\n",
    "    price = rows[7]\n",
    "    \n",
    "    if price == '0':\n",
    "        google_free.append(rows)\n",
    "        \n",
    "\n",
    "for rows in apple_english:\n",
    "    price = rows[4]\n",
    "    \n",
    "    if price == '0.0':\n",
    "        apple_free.append(rows)\n",
    "\n",
    "print(len(google_free), \"android free apps\")\n",
    "print(len(apple_free), \"ios free apps\")\n",
    "\n"
   ]
  },
  {
   "cell_type": "markdown",
   "metadata": {},
   "source": [
    "# Finding Common Genres in IOS & Andorid App Stores\n",
    "\n",
    "Pursuing a strategy we need to find an app which is most likely to be used by most number of people on both IOS & Google play stores. \n",
    "\n",
    "To do so , we will create few functions which will be applicable to both ios and andorid datasets.\n",
    "\n",
    "* Function to display Genres by Absolute frequency\n",
    "\n",
    "* Function to display Genres by percentage proportion of all"
   ]
  },
  {
   "cell_type": "code",
   "execution_count": 18,
   "metadata": {},
   "outputs": [],
   "source": [
    "#Creating function to genreate absolute frequency table with ascending/desending order flexibility\n",
    "def abs_frequency(dataset,index,descend = True):\n",
    "    table = {}\n",
    "    total = 0\n",
    "    #altnernate to total counter : sum(list(table.values())) -> this will sum the total occurences in dictionary and be same thing as total counter\n",
    "    for rows in dataset:\n",
    "        genre = rows[index]\n",
    "        total += 1\n",
    "        if genre in table:\n",
    "            table[genre] += 1\n",
    "        else:\n",
    "            table[genre] = 1\n",
    "    if descend:\n",
    "        return sorted(table.items(),key=lambda x:x[1],reverse = True) #to ensure table rolls out in descending order\n",
    "    else:\n",
    "        return sorted(table.items(),key=lambda x:x[1],reverse = False) # Ascending order\n",
    "\n",
    "            \n",
    "\n",
    "\n",
    "#Creating function to display genres in percentage, ascending/descending flexibility\n",
    "\n",
    "def display_table(dataset, index, descend = True):\n",
    "    table = {}\n",
    "    total = 0\n",
    "    \n",
    "    for rows in dataset:\n",
    "        genre = rows[index]\n",
    "        total += 1\n",
    "        if genre in table:\n",
    "            table[genre] += 1\n",
    "        else:\n",
    "            table[genre] = 1\n",
    "    \n",
    "    table_percentages = {}\n",
    "    for key in table:\n",
    "        percentage = (table[key]/total)*100\n",
    "        table_percentages[key] = percentage\n",
    "        \n",
    "    if descend:\n",
    "        return sorted(table_percentages.items(),key=lambda x:x[1],reverse=True)\n",
    "    else:\n",
    "        return sorted(table_percentages.items(),key=lambda x:x[1],reverse=False)\n",
    "    \n",
    "#Important to define x:x[1] as it will always then apply sort on whatever value on index position at 1\n",
    "#after sort is applied dictionary is changed to type list"
   ]
  },
  {
   "cell_type": "markdown",
   "metadata": {},
   "source": [
    "# Part three\n",
    "\n",
    "We start examining the frequency table for genres in both data bases."
   ]
  },
  {
   "cell_type": "code",
   "execution_count": 19,
   "metadata": {},
   "outputs": [
    {
     "data": {
      "text/plain": [
       "[('Games', 58.16263190564867),\n",
       " ('Entertainment', 7.883302296710118),\n",
       " ('Photo & Video', 4.9658597144630665),\n",
       " ('Education', 3.662321539416512),\n",
       " ('Social Networking', 3.2898820608317814),\n",
       " ('Shopping', 2.60707635009311),\n",
       " ('Utilities', 2.5139664804469275),\n",
       " ('Sports', 2.1415270018621975),\n",
       " ('Music', 2.0484171322160147),\n",
       " ('Health & Fitness', 2.0173805090006205),\n",
       " ('Productivity', 1.7380509000620732),\n",
       " ('Lifestyle', 1.5828677839851024),\n",
       " ('News', 1.3345747982619491),\n",
       " ('Travel', 1.2414649286157666),\n",
       " ('Finance', 1.1173184357541899),\n",
       " ('Weather', 0.8690254500310366),\n",
       " ('Food & Drink', 0.8069522036002483),\n",
       " ('Reference', 0.5586592178770949),\n",
       " ('Business', 0.5276225946617008),\n",
       " ('Book', 0.4345127250155183),\n",
       " ('Navigation', 0.186219739292365),\n",
       " ('Medical', 0.186219739292365),\n",
       " ('Catalogs', 0.12414649286157665)]"
      ]
     },
     "execution_count": 19,
     "metadata": {},
     "output_type": "execute_result"
    }
   ],
   "source": [
    "display_table(apple_free,11)"
   ]
  },
  {
   "cell_type": "code",
   "execution_count": 20,
   "metadata": {},
   "outputs": [
    {
     "data": {
      "text/plain": [
       "[('FAMILY', 18.907942238267147),\n",
       " ('GAME', 9.724729241877256),\n",
       " ('TOOLS', 8.461191335740072),\n",
       " ('BUSINESS', 4.591606498194946),\n",
       " ('LIFESTYLE', 3.9034296028880866),\n",
       " ('PRODUCTIVITY', 3.892148014440433),\n",
       " ('FINANCE', 3.7003610108303246),\n",
       " ('MEDICAL', 3.531137184115524),\n",
       " ('SPORTS', 3.395758122743682),\n",
       " ('PERSONALIZATION', 3.3167870036101084),\n",
       " ('COMMUNICATION', 3.2378158844765346),\n",
       " ('HEALTH_AND_FITNESS', 3.0798736462093865),\n",
       " ('PHOTOGRAPHY', 2.944494584837545),\n",
       " ('NEWS_AND_MAGAZINES', 2.7978339350180503),\n",
       " ('SOCIAL', 2.6624548736462095),\n",
       " ('TRAVEL_AND_LOCAL', 2.33528880866426),\n",
       " ('SHOPPING', 2.2450361010830324),\n",
       " ('BOOKS_AND_REFERENCE', 2.1435018050541514),\n",
       " ('DATING', 1.861462093862816),\n",
       " ('VIDEO_PLAYERS', 1.7937725631768955),\n",
       " ('MAPS_AND_NAVIGATION', 1.3989169675090252),\n",
       " ('FOOD_AND_DRINK', 1.2409747292418771),\n",
       " ('EDUCATION', 1.1620036101083033),\n",
       " ('ENTERTAINMENT', 0.9589350180505415),\n",
       " ('LIBRARIES_AND_DEMO', 0.9363718411552346),\n",
       " ('AUTO_AND_VEHICLES', 0.9250902527075812),\n",
       " ('HOUSE_AND_HOME', 0.8235559566787004),\n",
       " ('WEATHER', 0.8009927797833934),\n",
       " ('EVENTS', 0.7107400722021661),\n",
       " ('PARENTING', 0.6543321299638989),\n",
       " ('ART_AND_DESIGN', 0.6430505415162455),\n",
       " ('COMICS', 0.6204873646209386),\n",
       " ('BEAUTY', 0.5979241877256317)]"
      ]
     },
     "execution_count": 20,
     "metadata": {},
     "output_type": "execute_result"
    }
   ],
   "source": [
    "display_table(google_free,1)"
   ]
  },
  {
   "cell_type": "markdown",
   "metadata": {},
   "source": [
    "We can see that among Free English apps in IOS store almost 58 % are games and then entertainment apps are close to 8 %. Then followed by photography and social media apps. However 'fun' apps in IOS quite large does not imply they will have the most users as well. Demand might not be the same. "
   ]
  },
  {
   "cell_type": "code",
   "execution_count": 21,
   "metadata": {
    "scrolled": true
   },
   "outputs": [
    {
     "data": {
      "text/plain": [
       "[('FAMILY', 18.907942238267147),\n",
       " ('GAME', 9.724729241877256),\n",
       " ('TOOLS', 8.461191335740072),\n",
       " ('BUSINESS', 4.591606498194946),\n",
       " ('LIFESTYLE', 3.9034296028880866),\n",
       " ('PRODUCTIVITY', 3.892148014440433),\n",
       " ('FINANCE', 3.7003610108303246),\n",
       " ('MEDICAL', 3.531137184115524),\n",
       " ('SPORTS', 3.395758122743682),\n",
       " ('PERSONALIZATION', 3.3167870036101084),\n",
       " ('COMMUNICATION', 3.2378158844765346),\n",
       " ('HEALTH_AND_FITNESS', 3.0798736462093865),\n",
       " ('PHOTOGRAPHY', 2.944494584837545),\n",
       " ('NEWS_AND_MAGAZINES', 2.7978339350180503),\n",
       " ('SOCIAL', 2.6624548736462095),\n",
       " ('TRAVEL_AND_LOCAL', 2.33528880866426),\n",
       " ('SHOPPING', 2.2450361010830324),\n",
       " ('BOOKS_AND_REFERENCE', 2.1435018050541514),\n",
       " ('DATING', 1.861462093862816),\n",
       " ('VIDEO_PLAYERS', 1.7937725631768955),\n",
       " ('MAPS_AND_NAVIGATION', 1.3989169675090252),\n",
       " ('FOOD_AND_DRINK', 1.2409747292418771),\n",
       " ('EDUCATION', 1.1620036101083033),\n",
       " ('ENTERTAINMENT', 0.9589350180505415),\n",
       " ('LIBRARIES_AND_DEMO', 0.9363718411552346),\n",
       " ('AUTO_AND_VEHICLES', 0.9250902527075812),\n",
       " ('HOUSE_AND_HOME', 0.8235559566787004),\n",
       " ('WEATHER', 0.8009927797833934),\n",
       " ('EVENTS', 0.7107400722021661),\n",
       " ('PARENTING', 0.6543321299638989),\n",
       " ('ART_AND_DESIGN', 0.6430505415162455),\n",
       " ('COMICS', 0.6204873646209386),\n",
       " ('BEAUTY', 0.5979241877256317)]"
      ]
     },
     "execution_count": 21,
     "metadata": {},
     "output_type": "execute_result"
    }
   ],
   "source": [
    "display_table(google_free,1)"
   ]
  },
  {
   "cell_type": "markdown",
   "metadata": {},
   "source": [
    "The landscape seems significantly different on Google Play: there are not that many apps designed for fun, and it seems that a good number of apps are designed for practical purposes (family, tools, business, lifestyle, productivity, etc.). However, if we investigate this further, we can see that the family category (which accounts for almost 19% of the apps) means mostly games for kids."
   ]
  },
  {
   "cell_type": "markdown",
   "metadata": {},
   "source": [
    "# Most Popular Apps by Genre on App Store\n",
    "\n",
    "One way to find out what genres are the most popular (have the most users) is to calculate the average number of installs for each app genre. For the Google Play data set, we can find this information in the Installs column, but for the App Store data set this information is missing. As a workaround, we'll take the total number of user ratings as a proxy, which we can find in the rating_count_tot app."
   ]
  },
  {
   "cell_type": "code",
   "execution_count": 22,
   "metadata": {},
   "outputs": [
    {
     "name": "stdout",
     "output_type": "stream",
     "text": [
      "Games : 22788.6696905016\n",
      "Entertainment : 14029.830708661417\n",
      "Photo & Video : 28441.54375\n",
      "Education : 7003.983050847458\n",
      "Social Networking : 71548.34905660378\n",
      "Shopping : 26919.690476190477\n",
      "Utilities : 18684.456790123455\n",
      "Sports : 23008.898550724636\n",
      "Music : 57326.530303030304\n",
      "Health & Fitness : 23298.015384615384\n",
      "Productivity : 21028.410714285714\n",
      "Lifestyle : 16485.764705882353\n",
      "News : 21248.023255813954\n",
      "Travel : 28243.8\n",
      "Finance : 31467.944444444445\n",
      "Weather : 52279.892857142855\n",
      "Food & Drink : 33333.92307692308\n",
      "Reference : 74942.11111111111\n",
      "Business : 7491.117647058823\n",
      "Book : 39758.5\n",
      "Navigation : 86090.33333333333\n",
      "Medical : 612.0\n",
      "Catalogs : 4004.0\n"
     ]
    }
   ],
   "source": [
    "genres_ios= abs_frequency(apple_free,-5) # this will return a LIST not a dictionary, hence genre has to be defined within the loop\n",
    "\n",
    "for rows in genres_ios:\n",
    "    genre = rows[0]\n",
    "    total = 0\n",
    "    len_genre = 0\n",
    "    for app in apple_free:\n",
    "        genre_app = app[-5]\n",
    "        if genre_app == genre:\n",
    "            n_ratings = float(app[5])\n",
    "            total += n_ratings\n",
    "            len_genre += 1\n",
    "    avg_rating = total/len_genre\n",
    "    print(genre,':',avg_rating)"
   ]
  },
  {
   "cell_type": "markdown",
   "metadata": {},
   "source": [
    "On average, navigation apps have the highest number of user reviews, but this figure is heavily influenced by Waze and Google Maps, which have close to half a million user reviews together:"
   ]
  },
  {
   "cell_type": "code",
   "execution_count": 23,
   "metadata": {},
   "outputs": [
    {
     "name": "stdout",
     "output_type": "stream",
     "text": [
      "Waze - GPS Navigation, Maps & Real-time Traffic : 345046\n",
      "Google Maps - Navigation & Transit : 154911\n",
      "Geocaching® : 12811\n",
      "CoPilot GPS – Car Navigation & Offline Maps : 3582\n",
      "ImmobilienScout24: Real Estate Search in Germany : 187\n",
      "Railway Route Search : 5\n"
     ]
    }
   ],
   "source": [
    "for app in apple_free:\n",
    "    if app[-5] == 'Navigation':\n",
    "        print(app[1], ':', app[5]) # print name and number of ratings"
   ]
  },
  {
   "cell_type": "markdown",
   "metadata": {},
   "source": [
    "\n",
    "The same pattern applies to social networking apps, where the average number is heavily influenced by a few giants like Facebook, Pinterest, Skype, etc. Same applies to music apps, where a few big players like Pandora, Spotify, and Shazam heavily influence the average number.\n",
    "\n",
    "Our aim is to find popular genres, but navigation, social networking or music apps might seem more popular than they really are. The average number of ratings seem to be skewed by very few apps which have hundreds of thousands of user ratings, while the other apps may struggle to get past the 10,000 threshold. We could get a better picture by removing these extremely popular apps for each genre and then rework the averages, but we'll leave this level of detail for later."
   ]
  },
  {
   "cell_type": "markdown",
   "metadata": {},
   "source": [
    "# Most Popular apps by Genre on Play store\n",
    "\n",
    "For the Google Play market, we actually have data about the number of installs, so we should be able to get a clearer picture about genre popularity. However, the install numbers don't seem precise enough — we can see that most values are open-ended (100+, 1,000+, 5,000+, etc.):"
   ]
  },
  {
   "cell_type": "code",
   "execution_count": 24,
   "metadata": {},
   "outputs": [
    {
     "data": {
      "text/plain": [
       "[('1,000,000+', 15.726534296028879),\n",
       " ('100,000+', 11.552346570397113),\n",
       " ('10,000,000+', 10.548285198555957),\n",
       " ('10,000+', 10.198555956678701),\n",
       " ('1,000+', 8.393501805054152),\n",
       " ('100+', 6.915613718411552),\n",
       " ('5,000,000+', 6.825361010830325),\n",
       " ('500,000+', 5.561823104693141),\n",
       " ('50,000+', 4.7721119133574),\n",
       " ('5,000+', 4.512635379061372),\n",
       " ('10+', 3.5424187725631766),\n",
       " ('500+', 3.2490974729241873),\n",
       " ('50,000,000+', 2.3014440433213),\n",
       " ('100,000,000+', 2.1322202166064983),\n",
       " ('50+', 1.917870036101083),\n",
       " ('5+', 0.78971119133574),\n",
       " ('1+', 0.5076714801444043),\n",
       " ('500,000,000+', 0.2707581227436823),\n",
       " ('1,000,000,000+', 0.22563176895306858),\n",
       " ('0+', 0.04512635379061372),\n",
       " ('0', 0.01128158844765343)]"
      ]
     },
     "execution_count": 24,
     "metadata": {},
     "output_type": "execute_result"
    }
   ],
   "source": [
    "display_table(google_free,5)"
   ]
  },
  {
   "cell_type": "markdown",
   "metadata": {},
   "source": [
    "One problem with this data is that is not precise. For instance, we don't know whether an app with 100,000+ installs has 100,000 installs, 200,000, or 350,000. However, we don't need very precise data for our purposes — we only want to get an idea which app genres attract the most users, and we don't need perfect precision with respect to the number of users.\n",
    "\n",
    "We're going to leave the numbers as they are, which means that we'll consider that an app with 100,000+ installs has 100,000 installs, and an app with 1,000,000+ installs has 1,000,000 installs, and so on.\n",
    "\n",
    "To perform computations, however, we'll need to convert each install number to float — this means that we need to remove the commas and the plus characters, otherwise the conversion will fail and raise an error. We'll do this directly in the loop below, where we also compute the average number of installs for each genre (category)."
   ]
  },
  {
   "cell_type": "code",
   "execution_count": 25,
   "metadata": {
    "scrolled": false
   },
   "outputs": [
    {
     "name": "stdout",
     "output_type": "stream",
     "text": [
      "FAMILY : 3695641.8198090694\n",
      "GAME : 15588015.603248259\n",
      "TOOLS : 10801391.298666667\n",
      "BUSINESS : 1712290.1474201474\n",
      "LIFESTYLE : 1437816.2687861272\n",
      "PRODUCTIVITY : 16787331.344927534\n",
      "FINANCE : 1387692.475609756\n",
      "MEDICAL : 120550.61980830671\n",
      "SPORTS : 3638640.1428571427\n",
      "PERSONALIZATION : 5201482.6122448975\n",
      "COMMUNICATION : 38456119.167247385\n",
      "HEALTH_AND_FITNESS : 4188821.9853479853\n",
      "PHOTOGRAPHY : 17840110.40229885\n",
      "NEWS_AND_MAGAZINES : 9549178.467741935\n",
      "SOCIAL : 23253652.127118643\n",
      "TRAVEL_AND_LOCAL : 13984077.710144928\n",
      "SHOPPING : 7036877.311557789\n",
      "BOOKS_AND_REFERENCE : 8767811.894736841\n",
      "DATING : 854028.8303030303\n",
      "VIDEO_PLAYERS : 24727872.452830188\n",
      "MAPS_AND_NAVIGATION : 4056941.7741935486\n",
      "FOOD_AND_DRINK : 1924897.7363636363\n",
      "EDUCATION : 1833495.145631068\n",
      "ENTERTAINMENT : 11640705.88235294\n",
      "LIBRARIES_AND_DEMO : 638503.734939759\n",
      "AUTO_AND_VEHICLES : 647317.8170731707\n",
      "HOUSE_AND_HOME : 1331540.5616438356\n",
      "WEATHER : 5074486.197183099\n",
      "EVENTS : 253542.22222222222\n",
      "PARENTING : 542603.6206896552\n",
      "ART_AND_DESIGN : 1986335.0877192982\n",
      "COMICS : 817657.2727272727\n",
      "BEAUTY : 513151.88679245283\n"
     ]
    }
   ],
   "source": [
    "categories_android = abs_frequency(google_free,1)\n",
    "install_dist = []\n",
    "\n",
    "for e in categories_android:\n",
    "    category = e[0]\n",
    "    total = 0\n",
    "    len_categ = 0\n",
    "    for rows in google_free:\n",
    "        category_app = rows[1]\n",
    "        if category_app == category:\n",
    "            n_installs = rows[5]\n",
    "            n_installs = n_installs.replace(',', '')\n",
    "            n_installs = n_installs.replace('+', '')\n",
    "            n_installs = float(n_installs)\n",
    "            total += n_installs\n",
    "            len_categ += 1\n",
    "    \n",
    "    avg_installs = total/len_categ\n",
    "    print(category,':',avg_installs)\n",
    "            \n",
    "#The nested loops follow block logic, you can re build a small case using example on page 12\n",
    "\n",
    "\n",
    "    "
   ]
  },
  {
   "cell_type": "markdown",
   "metadata": {},
   "source": [
    "On average - communication genre has most installs as shownn by the distribution generated above. However upon analyzing the category closely we can observer how heavily skewed this category is. As it will be true for most other categories too."
   ]
  },
  {
   "cell_type": "code",
   "execution_count": 26,
   "metadata": {},
   "outputs": [
    {
     "name": "stdout",
     "output_type": "stream",
     "text": [
      "WhatsApp Messenger : 1,000,000,000+\n",
      "imo beta free calls and text : 100,000,000+\n",
      "Android Messages : 100,000,000+\n",
      "Google Duo - High Quality Video Calls : 500,000,000+\n",
      "Messenger – Text and Video Chat for Free : 1,000,000,000+\n",
      "imo free video calls and chat : 500,000,000+\n",
      "Skype - free IM & video calls : 1,000,000,000+\n",
      "Who : 100,000,000+\n",
      "GO SMS Pro - Messenger, Free Themes, Emoji : 100,000,000+\n",
      "LINE: Free Calls & Messages : 500,000,000+\n",
      "Google Chrome: Fast & Secure : 1,000,000,000+\n",
      "Firefox Browser fast & private : 100,000,000+\n",
      "UC Browser - Fast Download Private & Secure : 500,000,000+\n",
      "Gmail : 1,000,000,000+\n",
      "Hangouts : 1,000,000,000+\n",
      "Messenger Lite: Free Calls & Messages : 100,000,000+\n",
      "Kik : 100,000,000+\n",
      "KakaoTalk: Free Calls & Text : 100,000,000+\n",
      "Opera Mini - fast web browser : 100,000,000+\n",
      "Opera Browser: Fast and Secure : 100,000,000+\n",
      "Telegram : 100,000,000+\n",
      "Truecaller: Caller ID, SMS spam blocking & Dialer : 100,000,000+\n",
      "UC Browser Mini -Tiny Fast Private & Secure : 100,000,000+\n",
      "Viber Messenger : 500,000,000+\n",
      "WeChat : 100,000,000+\n",
      "Yahoo Mail – Stay Organized : 100,000,000+\n",
      "BBM - Free Calls & Messages : 100,000,000+\n"
     ]
    }
   ],
   "source": [
    "for apps in google_free:\n",
    "    if apps [1] == 'COMMUNICATION' and (apps[5] == '1,000,000,000+' \n",
    "                                       or apps[5]== '500,000,000+'\n",
    "                                       or apps[5]== '100,000,000+'):\n",
    "        print(apps[0], ':',apps[5])"
   ]
  },
  {
   "cell_type": "markdown",
   "metadata": {},
   "source": [
    "Removing apps with installs above 100 M + will bring down the category avg install number down drastically. "
   ]
  },
  {
   "cell_type": "code",
   "execution_count": 27,
   "metadata": {},
   "outputs": [
    {
     "data": {
      "text/plain": [
       "3603485.3884615386"
      ]
     },
     "execution_count": 27,
     "metadata": {},
     "output_type": "execute_result"
    }
   ],
   "source": [
    "under_100m = []\n",
    "\n",
    "for app in google_free:\n",
    "    n_installs = app[5]\n",
    "    n_installs = n_installs.replace(',', '')\n",
    "    n_installs = n_installs.replace('+', '')\n",
    "    n_installs = float(n_installs)\n",
    "    if app[1] == 'COMMUNICATION' and n_installs<100000000:\n",
    "        under_100m.append(n_installs)\n",
    "        \n",
    "sum(under_100m)/len(under_100m)"
   ]
  },
  {
   "cell_type": "markdown",
   "metadata": {},
   "source": [
    "**Exploring another Category**"
   ]
  },
  {
   "cell_type": "code",
   "execution_count": 28,
   "metadata": {},
   "outputs": [
    {
     "name": "stdout",
     "output_type": "stream",
     "text": [
      "Google Play Books : 1,000,000,000+\n",
      "Bible : 100,000,000+\n",
      "Amazon Kindle : 100,000,000+\n",
      "Wattpad 📖 Free Books : 100,000,000+\n",
      "Audiobooks from Audible : 100,000,000+\n"
     ]
    }
   ],
   "source": [
    "for app in google_free:\n",
    "    if app[1] == 'BOOKS_AND_REFERENCE' and (app[5] == '1,000,000,000+'\n",
    "                                            or app[5] == '500,000,000+'\n",
    "                                            or app[5] == '100,000,000+'):\n",
    "        print(app[0], ':', app[5])"
   ]
  },
  {
   "cell_type": "markdown",
   "metadata": {},
   "source": [
    "\n",
    "However, it looks like there are only a few very popular apps, so this market still shows potential. Let's try to get some app ideas based on the kind of apps that are somewhere in the middle in terms of popularity (between 1,000,000 and 100,000,000 downloads):"
   ]
  },
  {
   "cell_type": "code",
   "execution_count": 29,
   "metadata": {
    "scrolled": true
   },
   "outputs": [
    {
     "name": "stdout",
     "output_type": "stream",
     "text": [
      "Wikipedia : 10,000,000+\n",
      "Cool Reader : 10,000,000+\n",
      "Book store : 1,000,000+\n",
      "FBReader: Favorite Book Reader : 10,000,000+\n",
      "Free Books - Spirit Fanfiction and Stories : 1,000,000+\n",
      "AlReader -any text book reader : 5,000,000+\n",
      "FamilySearch Tree : 1,000,000+\n",
      "Cloud of Books : 1,000,000+\n",
      "ReadEra – free ebook reader : 1,000,000+\n",
      "Ebook Reader : 5,000,000+\n",
      "Read books online : 5,000,000+\n",
      "eBoox: book reader fb2 epub zip : 1,000,000+\n",
      "All Maths Formulas : 1,000,000+\n",
      "Ancestry : 5,000,000+\n",
      "HTC Help : 10,000,000+\n",
      "Moon+ Reader : 10,000,000+\n",
      "English-Myanmar Dictionary : 1,000,000+\n",
      "Golden Dictionary (EN-AR) : 1,000,000+\n",
      "All Language Translator Free : 1,000,000+\n",
      "Aldiko Book Reader : 10,000,000+\n",
      "Dictionary - WordWeb : 5,000,000+\n",
      "50000 Free eBooks & Free AudioBooks : 5,000,000+\n",
      "Al-Quran (Free) : 10,000,000+\n",
      "Al Quran Indonesia : 10,000,000+\n",
      "Al'Quran Bahasa Indonesia : 10,000,000+\n",
      "Al Quran Al karim : 1,000,000+\n",
      "Al Quran : EAlim - Translations & MP3 Offline : 5,000,000+\n",
      "Koran Read &MP3 30 Juz Offline : 1,000,000+\n",
      "Hafizi Quran 15 lines per page : 1,000,000+\n",
      "Quran for Android : 10,000,000+\n",
      "Satellite AR : 1,000,000+\n",
      "Oxford A-Z of English Usage : 1,000,000+\n",
      "Dictionary.com: Find Definitions for English Words : 10,000,000+\n",
      "English Dictionary - Offline : 10,000,000+\n",
      "Bible KJV : 5,000,000+\n",
      "NOOK: Read eBooks & Magazines : 10,000,000+\n",
      "Brilliant Quotes: Life, Love, Family & Motivation : 1,000,000+\n",
      "Stats Royale for Clash Royale : 1,000,000+\n",
      "Dictionary : 10,000,000+\n",
      "wikiHow: how to do anything : 1,000,000+\n",
      "EGW Writings : 1,000,000+\n",
      "My Little Pony AR Guide : 1,000,000+\n",
      "Spanish English Translator : 10,000,000+\n",
      "Dictionary - Merriam-Webster : 10,000,000+\n",
      "JW Library : 10,000,000+\n",
      "Oxford Dictionary of English : Free : 10,000,000+\n",
      "English Hindi Dictionary : 10,000,000+\n",
      "English to Hindi Dictionary : 5,000,000+\n"
     ]
    }
   ],
   "source": [
    "for app in google_free:\n",
    "    if app[1] == 'BOOKS_AND_REFERENCE' and (app[5] == '1,000,000+'\n",
    "                                            or app[5] == '5,000,000+'\n",
    "                                            or app[5] == '10,000,000+'\n",
    "                                            or app[5] == '50,000,000+'):\n",
    "        print(app[0], ':', app[5])"
   ]
  },
  {
   "cell_type": "markdown",
   "metadata": {},
   "source": [
    "\n",
    "This niche seems to be dominated by software for processing and reading ebooks, as well as various collections of libraries and dictionaries, so it's probably not a good idea to build similar apps since there'll be some significant competition."
   ]
  },
  {
   "cell_type": "markdown",
   "metadata": {},
   "source": [
    "# Conclusions\n",
    "\n",
    "In this project, we analyzed data about the App Store and Google Play mobile apps with the goal of recommending an app profile that can be profitable for both markets.\n",
    "\n",
    "We concluded that taking a popular book (perhaps a more recent book) and turning it into an app could be profitable for both the Google Play and the App Store markets. The markets are already full of libraries, so we need to add some special features besides the raw version of the book. This might include daily quotes from the book, an audio version of the book, quizzes on the book, a forum where people can discuss the book, etc.\n",
    "\n",
    "\n",
    "Similar process can be taken to analyze and slice through IOS based apps"
   ]
  },
  {
   "cell_type": "code",
   "execution_count": 30,
   "metadata": {},
   "outputs": [
    {
     "name": "stdout",
     "output_type": "stream",
     "text": [
      "First\n",
      "1\n",
      "2\n",
      "3\n",
      "4\n",
      "10\n",
      "Second\n",
      "1\n",
      "2\n",
      "3\n",
      "4\n",
      "10\n"
     ]
    }
   ],
   "source": [
    "#example to revise nested loop confusion\n",
    "\n",
    "some_string = ['First','Second']\n",
    "some_int = [1,2,3,4]\n",
    "\n",
    "for e in some_string:\n",
    "    print(e)\n",
    "    for z in some_int:\n",
    "        print(z)\n",
    "    x = sum(some_int)\n",
    "    print(x)"
   ]
  },
  {
   "cell_type": "code",
   "execution_count": null,
   "metadata": {},
   "outputs": [],
   "source": []
  }
 ],
 "metadata": {
  "kernelspec": {
   "display_name": "Python 3",
   "language": "python",
   "name": "python3"
  },
  "language_info": {
   "codemirror_mode": {
    "name": "ipython",
    "version": 3
   },
   "file_extension": ".py",
   "mimetype": "text/x-python",
   "name": "python",
   "nbconvert_exporter": "python",
   "pygments_lexer": "ipython3",
   "version": "3.8.5"
  }
 },
 "nbformat": 4,
 "nbformat_minor": 4
}
